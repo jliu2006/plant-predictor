{
 "cells": [
  {
   "cell_type": "code",
   "execution_count": 2,
   "id": "e3b0ee3c",
   "metadata": {},
   "outputs": [],
   "source": [
    "from tensorly import tt_to_tensor\n",
    "import tensorly.decomposition as tl_decomp\n",
    "import tensorly.tenalg as tl_alg\n",
    "import numpy as np\n",
    "import matplotlib.pyplot as plt\n",
    "\n",
    "import numpy as np\n",
    "import pywt\n",
    "\n",
    "# Define the dimensions of the tensor\n",
    "N = 10\n",
    "frame = 20\n",
    "channel = 3\n",
    "w = 50\n",
    "h = 50\n"
   ]
  },
  {
   "cell_type": "code",
   "execution_count": 3,
   "id": "4d6832d4",
   "metadata": {},
   "outputs": [],
   "source": [
    "\n",
    "def DWT(image):\n",
    "    \n",
    "    h2 = int(image.shape[0]/2) +2\n",
    "    w2 = int(image.shape[1]/2) +2\n",
    "    DWT_output = np.zeros([4, h2, w2])\n",
    "    coeffs = pywt.dwt2(image, 'bior1.3')\n",
    "    LL, (LH, HL, HH) = coeffs\n",
    "    \n",
    "    DWT_output[0] = LL\n",
    "    DWT_output[1] = LH\n",
    "    DWT_output[2] = HL\n",
    "    DWT_output[3] = HH\n",
    "    \n",
    "    return DWT_output "
   ]
  },
  {
   "cell_type": "code",
   "execution_count": 4,
   "id": "75a9cb0a",
   "metadata": {},
   "outputs": [],
   "source": [
    "def invDWT(DWTimage):\n",
    "    reconstructed_image = pywt.idwt2((DWTimage[0], (DWTimage[1],DWTimage[2],DWTimage[3])), 'bior1.3')\n",
    "    return reconstructed_image"
   ]
  },
  {
   "cell_type": "code",
   "execution_count": 5,
   "id": "01634839",
   "metadata": {},
   "outputs": [],
   "source": [
    "def DWT_tensor(input_data):\n",
    "    (N, frame, channel, w, h) = input_data.shape\n",
    "#     shape_DWT = (N, frame, channel*4, int(w/2), int(h/2))\n",
    "    \n",
    "    DWT_outputs = np.zeros([N, frame, channel*4, int(w/2), int(h/2)])\n",
    "    for i in range(N):\n",
    "        for j in range(frame):\n",
    "            for k in range(channel):\n",
    "                DWT_output = DWT(input_data[i,j,k, :,:]) #1: int(w/2)+1, 1:int(h/2)+1]\n",
    "                DWT_outputs[i, j, k*4:(k+1)*4, :, :] = DWT_output[:,1: int(w/2)+1, 1:int(h/2)+1]\n",
    "    return DWT_outputs\n"
   ]
  },
  {
   "cell_type": "code",
   "execution_count": 6,
   "id": "9c544b72",
   "metadata": {},
   "outputs": [
    {
     "name": "stdout",
     "output_type": "stream",
     "text": [
      "Tensor Shape: (10, 20, 3, 50, 50)\n",
      "input tensor data shape (10, 20, 3, 50, 50)\n",
      "output tensor data shape (10, 20, 12, 25, 25)\n"
     ]
    }
   ],
   "source": [
    "\n",
    "# Generate a random 5-dimensional tensor\n",
    "input_data = np.random.rand(N, frame, channel, h, w)\n",
    "\n",
    "# Print the shape of the tensor\n",
    "print(\"Tensor Shape:\", input_data.shape)\n",
    "\n",
    "print(\"input tensor data shape\",input_data.shape)\n",
    "DWT_tensor_out = DWT_tensor(input_data)\n",
    "print(\"output tensor data shape\",DWT_tensor_out.shape)\n"
   ]
  }
 ],
 "metadata": {
  "kernelspec": {
   "display_name": "Python 3 (ipykernel)",
   "language": "python",
   "name": "python3"
  },
  "language_info": {
   "codemirror_mode": {
    "name": "ipython",
    "version": 3
   },
   "file_extension": ".py",
   "mimetype": "text/x-python",
   "name": "python",
   "nbconvert_exporter": "python",
   "pygments_lexer": "ipython3",
   "version": "3.9.13"
  }
 },
 "nbformat": 4,
 "nbformat_minor": 5
}
