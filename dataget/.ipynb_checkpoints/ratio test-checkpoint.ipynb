{
 "cells": [
  {
   "cell_type": "code",
   "execution_count": 2,
   "id": "0f4fc851",
   "metadata": {},
   "outputs": [],
   "source": [
    "import sys\n",
    "import os\n",
    "import glob\n",
    "from glob import glob\n",
    "import numpy as np\n",
    "import datetime\n",
    "import matplotlib.pyplot as plt\n",
    "import json"
   ]
  },
  {
   "cell_type": "code",
   "execution_count": 1,
   "id": "8892d0dc",
   "metadata": {},
   "outputs": [],
   "source": [
    "def get_ratio(folder): # 0 is NDVI, 1 is EVI\n",
    "    raw_ndvi = folder + '/impute_raw_ndvi.npy'\n",
    "    ref_ndvi = folder + '/impute_ref.npy'\n",
    "    raw = np.load(raw_ndvi)\n",
    "    ref = np.load(ref_ndvi)\n",
    "    \n",
    "    for i in range(len(raw)):\n",
    "        ndvi_arr = raw[i]\n",
    "        ndvi_ref = ref[i%11]\n",
    "        for layer in range(len(ndvi_arr)):\n",
    "            for i in range(len(ndvi_arr[0])):\n",
    "                for j in range(len(ndvi_arr[0])):\n",
    "                    if (ndvi_arr[layer][i][j] <= 0) or (ndvi_ref[layer][i][j] <= 0):\n",
    "                        res[layer][i][j] = 0\n",
    "                    else:\n",
    "                        res[layer][i][j] = round(ndvi_arr[layer][i][j] / ndvi_ref[layer][i][j], 2)\n",
    "\n",
    "        resfile = folder + '/ratio_MOD13Q1_' + date + '.npy'\n",
    "        np.save(resfile, res)"
   ]
  },
  {
   "cell_type": "code",
   "execution_count": 3,
   "id": "8784680f",
   "metadata": {},
   "outputs": [
    {
     "name": "stdout",
     "output_type": "stream",
     "text": [
      "0\n",
      "0\n",
      "1\n",
      "1\n",
      "2\n",
      "2\n",
      "3\n",
      "3\n",
      "4\n",
      "4\n",
      "5\n",
      "5\n",
      "6\n",
      "6\n",
      "7\n",
      "7\n",
      "8\n",
      "8\n",
      "9\n",
      "9\n",
      "10\n",
      "10\n",
      "11\n",
      "11\n",
      "12\n",
      "0\n",
      "13\n",
      "1\n",
      "14\n",
      "2\n",
      "15\n",
      "3\n",
      "16\n",
      "4\n",
      "17\n",
      "5\n",
      "18\n",
      "6\n",
      "19\n",
      "7\n",
      "20\n",
      "8\n",
      "21\n",
      "9\n",
      "22\n",
      "10\n",
      "23\n",
      "11\n",
      "24\n",
      "0\n"
     ]
    }
   ],
   "source": [
    "folders = glob('/home/fun/wildfire_data/Zogg_Fire_2020-09-27')\n",
    "\n",
    "for folder in folders:\n",
    "    prof = folder + '/profile.json'\n",
    "    f = open(prof)\n",
    "    info = json.load(f)\n",
    "    end = datetime.datetime.strptime(info['end'], '%Y-%m-%d')\n",
    "    cutoff_date = end.replace(year=2021, month=2, day=1)\n",
    "    if(info['info']['acres_burned'] >= 10000) and (end <= cutoff_date):\n",
    "        get_ratio(folder)"
   ]
  }
 ],
 "metadata": {
  "kernelspec": {
   "display_name": "Python 3 (ipykernel)",
   "language": "python",
   "name": "python3"
  },
  "language_info": {
   "codemirror_mode": {
    "name": "ipython",
    "version": 3
   },
   "file_extension": ".py",
   "mimetype": "text/x-python",
   "name": "python",
   "nbconvert_exporter": "python",
   "pygments_lexer": "ipython3",
   "version": "3.9.13"
  }
 },
 "nbformat": 4,
 "nbformat_minor": 5
}
