{
 "cells": [
  {
   "cell_type": "code",
   "execution_count": null,
   "id": "03f1054e",
   "metadata": {},
   "outputs": [],
   "source": [
    "##### how linear layers behave in 3+ dimensions #####\n",
    "\n",
    "# typically, the linear layer is used in 2 dimensions, where the first dimension represents the sample/batch, \n",
    "# and the second dimension is equal to the input features declared in the constructor.\n",
    "# for each sample, the linear layer takes the input features and maps them into the output features, \n",
    "# as shown in the image below (from mildlyoverfitted)"
   ]
  },
  {
   "cell_type": "markdown",
   "id": "af29fd5c",
   "metadata": {},
   "source": [
    "![title](2d_linear_layer_example.png)"
   ]
  },
  {
   "cell_type": "code",
   "execution_count": null,
   "id": "dc7947ca",
   "metadata": {},
   "outputs": [],
   "source": [
    "##### 3+ dimension linear layer, continued #####\n",
    "\n",
    "# when using linear layer in higher dimensions, make sure that the last dimension of the input tensor\n",
    "# is equal to the input features declared in constructor\n",
    "# as shown the image below, the output tensor is created by applying the\n",
    "# linear layer across all samples AND the entire second dimension"
   ]
  },
  {
   "cell_type": "markdown",
   "id": "795cf114",
   "metadata": {},
   "source": [
    "![title](3d_linear_layer_example.png)"
   ]
  }
 ],
 "metadata": {
  "kernelspec": {
   "display_name": "Python 3 (ipykernel)",
   "language": "python",
   "name": "python3"
  },
  "language_info": {
   "codemirror_mode": {
    "name": "ipython",
    "version": 3
   },
   "file_extension": ".py",
   "mimetype": "text/x-python",
   "name": "python",
   "nbconvert_exporter": "python",
   "pygments_lexer": "ipython3",
   "version": "3.9.13"
  }
 },
 "nbformat": 4,
 "nbformat_minor": 5
}
