{
 "cells": [
  {
   "cell_type": "code",
   "execution_count": 1,
   "id": "6e91a746",
   "metadata": {
    "scrolled": true
   },
   "outputs": [
    {
     "name": "stdout",
     "output_type": "stream",
     "text": [
      "['/home/fun/wildfire_data/South_Fire_2019-09-05']\n",
      "================= downloading  /home/fun/wildfire_data/South_Fire_2019-09-05==================\n",
      "area: 5332\n",
      "2019-12-11\n",
      "downloading file  https://e4ftl01.cr.usgs.gov/MOLT/MOD14A2.006/2019.12.11/\n",
      "writing to /home/fun/wildfire_data/South_Fire_2019-09-05/fires_index_MOD14A2.006_2019-12-11.html\n",
      "2020-01-12\n",
      "downloading file  https://e4ftl01.cr.usgs.gov/MOLT/MOD14A2.006/2020.01.12/\n",
      "2020-01-13\n",
      "downloading file  https://e4ftl01.cr.usgs.gov/MOLT/MOD14A2.006/2020.01.13/\n",
      "2020-01-14\n",
      "downloading file  https://e4ftl01.cr.usgs.gov/MOLT/MOD14A2.006/2020.01.14/\n",
      "2020-01-15\n",
      "downloading file  https://e4ftl01.cr.usgs.gov/MOLT/MOD14A2.006/2020.01.15/\n",
      "2020-01-16\n",
      "downloading file  https://e4ftl01.cr.usgs.gov/MOLT/MOD14A2.006/2020.01.16/\n",
      "2020-01-17\n",
      "downloading file  https://e4ftl01.cr.usgs.gov/MOLT/MOD14A2.006/2020.01.17/\n",
      "writing to /home/fun/wildfire_data/South_Fire_2019-09-05/fires_index_MOD14A2.006_2020-01-17.html\n",
      "parsing /home/fun/wildfire_data/South_Fire_2019-09-05/fires_index_MOD14A2.006_2019-12-11.html\n",
      "downloading  MOD14A2.A2019345.h08v04.006.2019354132841.hdf to  /home/fun/wildfire_data/South_Fire_2019-09-05/\n",
      "downloading file  https://e4ftl01.cr.usgs.gov/MOLT/MOD14A2.006/2019.12.11/MOD14A2.A2019345.h08v04.006.2019354132841.hdf\n",
      "writing to /home/fun/wildfire_data/South_Fire_2019-09-05/MOD14A2.A2019345.h08v04.006.2019354132841.hdf\n",
      "parsing /home/fun/wildfire_data/South_Fire_2019-09-05/fires_index_MOD14A2.006_2020-01-17.html\n",
      "downloading  MOD14A2.A2020017.h08v04.006.2020027184538.hdf to  /home/fun/wildfire_data/South_Fire_2019-09-05/\n",
      "downloading file  https://e4ftl01.cr.usgs.gov/MOLT/MOD14A2.006/2020.01.17/MOD14A2.A2020017.h08v04.006.2020027184538.hdf\n",
      "writing to /home/fun/wildfire_data/South_Fire_2019-09-05/MOD14A2.A2020017.h08v04.006.2020027184538.hdf\n",
      "ALL FILES: ['/home/fun/wildfire_data/South_Fire_2019-09-05/MOD14A2.A2019345.h08v04.006.2019354132841.hdf', '/home/fun/wildfire_data/South_Fire_2019-09-05/MOD14A2.A2020017.h08v04.006.2020027184538.hdf']\n",
      "2019\n",
      "MOD14A2\n",
      "hdf_link,  /home/fun/wildfire_data/South_Fire_2019-09-05/MOD14A2.A2019345.h08v04.006.2019354132841.hdf\n",
      "1187 730\n",
      "channel 0: [[5 5 5]\n",
      " [5 5 5]]\n",
      "ndvi_img shape (38, 50) subimg[0] shape (50, 50)\n",
      "2020\n",
      "MOD14A2\n",
      "hdf_link,  /home/fun/wildfire_data/South_Fire_2019-09-05/MOD14A2.A2020017.h08v04.006.2020027184538.hdf\n",
      "1187 730\n",
      "channel 0: [[5 5 5]\n",
      " [5 5 5]]\n",
      "ndvi_img shape (38, 50) subimg[0] shape (50, 50)\n"
     ]
    }
   ],
   "source": [
    "import sys\n",
    "from pyhdf.SD import SD, SDC\n",
    "import numpy as np\n",
    "import matplotlib.pyplot as plt\n",
    "import glob\n",
    "from glob import glob\n",
    "import os\n",
    "import requests\n",
    "from urllib.parse import urlparse\n",
    "from bs4 import BeautifulSoup\n",
    "import re\n",
    "import csv\n",
    "import h5py\n",
    "import numpy as np\n",
    "import json\n",
    "import datetime\n",
    "from datetime import timedelta\n",
    "import functions as f\n",
    "\n",
    "tiles = [{\n",
    "    'lat_min': 40,\n",
    "    'lat_max': 50,\n",
    "    'name': 'h08v04'\n",
    "}, \n",
    "{\n",
    "    'lat_min': 30,\n",
    "    'lat_max': 40,\n",
    "    'name': 'h08v05'\n",
    "}]\n",
    "\n",
    "            \n",
    "# wildfires = glob('/home/fun/wildfire_data/'+ sys.argv[1]) # no forward slash\n",
    "# print(sys.argv)\n",
    "radius = 25\n",
    "\n",
    "wildfires = glob('/home/fun/wildfire_data/August_Com*')\n",
    "\n",
    "print(wildfires)\n",
    "\n",
    "for wildfire in wildfires:\n",
    "    print ('================= downloading  ' + wildfire + '==================')\n",
    "#     f.download_one_fire(wildfire +'/', 'MOD13Q1.006', '32d', 'https://e4ftl01.cr.usgs.gov/MOLT/', tiles ) # vegi index\n",
    "#     fillvalue = -3000 # JH: MOD13Q1 fill value is -3000\n",
    "#     f.write_imgs(wildfire, radius, fillvalue, tiles,'')\n",
    "    \n",
    "#     MOD11A_files = glob(wildfire + '/MOD11A2*.npy')\n",
    "#     if (len(MOD11A_files) == 25):\n",
    "#         print('MOD11A_files already exist in' , wildfire)\n",
    "#     else:\n",
    "#         f.download_one_fire(wildfire +'/', 'MOD11A2.006', '32d', 'https://e4ftl01.cr.usgs.gov/MOLT/', tiles )  # land temporature\n",
    "#         fillvalue = 0 # JH: MOD13Q1 fill value is 0\n",
    "#         f.write_imgs(wildfire, radius, fillvalue,tiles, '')\n",
    "\n",
    "#     f.download_one_fire(wildfire +'/', 'MCD64A1.006', '30d', 'https://e4ftl01.cr.usgs.gov/MOTA/',tiles ) #burned area\n",
    "#     f.write_imgs(wildfire, radius, -1, tiles,'')\n",
    "    fillvalue = -100\n",
    "    f.download_one_fire(wildfire +'/', 'MOD14A2.006', '32d', 'https://e4ftl01.cr.usgs.gov/MOLT/',tiles ) # firemask\n",
    "    f.write_imgs(wildfire, radius, fillvalue,tiles, '')\n",
    "   "
   ]
  },
  {
   "cell_type": "code",
   "execution_count": 8,
   "id": "c065b0a9",
   "metadata": {},
   "outputs": [
    {
     "name": "stdout",
     "output_type": "stream",
     "text": [
      "0\n",
      "area: \n"
     ]
    }
   ],
   "source": [
    "# folder = glob('/home/fun/wildfire_data/Cashe_Fire_2019-11-25/')\n",
    "\n",
    "# print(len(MOD11A_files))\n",
    "folder = '/home/fun/wildfire_data/Cashe_Fire_2019-11-25/'\n",
    "globprof = folder + 'profile.json'\n",
    "with open(globprof) as f:\n",
    "    prof = json.load(f)\n",
    "    area = prof['info']['acres_burned']\n",
    "    if (len(area) == 0) :\n",
    "        print(len(area))\n",
    "        print ('area:' ,area)"
   ]
  }
 ],
 "metadata": {
  "kernelspec": {
   "display_name": "Python 3 (ipykernel)",
   "language": "python",
   "name": "python3"
  },
  "language_info": {
   "codemirror_mode": {
    "name": "ipython",
    "version": 3
   },
   "file_extension": ".py",
   "mimetype": "text/x-python",
   "name": "python",
   "nbconvert_exporter": "python",
   "pygments_lexer": "ipython3",
   "version": "3.9.13"
  }
 },
 "nbformat": 4,
 "nbformat_minor": 5
}
