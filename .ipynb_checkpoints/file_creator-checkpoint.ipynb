{
 "cells": [
  {
   "cell_type": "code",
   "execution_count": 41,
   "id": "04d0bd3b",
   "metadata": {},
   "outputs": [],
   "source": [
    "import json\n",
    "import os\n",
    "\n",
    "def create_file(json_file):\n",
    "    with open(json_file) as json_file:\n",
    "        data = json.load(json_file)\n",
    "    \n",
    "    for line in data:\n",
    "        print(line)\n",
    "        name = line['incident_name'] + ' ' + line['incident_date_created'][0:10]\n",
    "        name = name.replace(' ', '_')\n",
    "        print(name)\n",
    "        \n",
    "        directory = '/home/fun/wildfire_data/' + str(name)\n",
    "        if os.path.exists(directory):\n",
    "            print (\"%s already exists\" % (directory))\n",
    "            continue\n",
    "            \n",
    "        os.makedirs(directory)\n",
    "\n",
    "        filename = '/home/fun/data/' + str(name) + '/profile.json'\n",
    "        out_file = open(filename, \"x\")\n",
    "\n",
    "        json.dump(line, out_file, indent = 6)\n",
    "        out_file.close()\n",
    "        \n",
    "        break\n",
    "    "
   ]
  },
  {
   "cell_type": "code",
   "execution_count": 42,
   "id": "ba859ecb",
   "metadata": {},
   "outputs": [
    {
     "name": "stdout",
     "output_type": "stream",
     "text": [
      "{'incident_name': 'August Complex (includes Doe Fire)', 'incident_is_final': 'Y', 'incident_date_last_update': '2020-11-18T10:22:42Z', 'incident_date_created': '2020-08-16T20:37:26Z', 'incident_administrative_unit': 'Mendocino National Forest', 'incident_administrative_unit_url': '', 'incident_county': 'Mendocino, Humboldt, Trinity, Tehama, Glenn, Lake, Colusa', 'incident_location': 'Mendocino, Humboldt, Trinity, Tehama, Glenn, Lake, & Colusa', 'incident_acres_burned': 1032648, 'incident_containment': 100, 'incident_control': 'Lightning sparked multiple fires across the Mendocino National Forest early Sunday morning.', 'incident_cooperating_agencies': 'Mendocino National Forest', 'incident_longitude': -122.673, 'incident_latitude': 39.776, 'incident_type': 'Wildfire', 'incident_id': 'b8f267be-9911-44ee-8a73-7a0537fbd6fa', 'incident_url': 'https://osfm.fire.ca.gov/incidents/2020/8/16/august-complex-includes-doe-fire/', 'incident_date_extinguished': '2020-11-11T10:21:44Z', 'incident_dateonly_extinguished': '11/11/2020', 'incident_dateonly_created': '8/16/2020', 'is_active': 'N', 'population': '', 'median_house_income': '', 'per_capita_income': '', 'poverty_rate': '', '16_yrs_unemployed': '', 'calfire_incident': 'FALSE', 'notification_desired': 'FALSE'}\n",
      "August_Complex_(includes_Doe_Fire)_2020-08-16\n"
     ]
    },
    {
     "ename": "FileExistsError",
     "evalue": "[Errno 17] File exists: '/home/fun/wildfire_data/August_Complex_(includes_Doe_Fire)_2020-08-16'",
     "output_type": "error",
     "traceback": [
      "\u001b[0;31m---------------------------------------------------------------------------\u001b[0m",
      "\u001b[0;31mFileExistsError\u001b[0m                           Traceback (most recent call last)",
      "Cell \u001b[0;32mIn [42], line 1\u001b[0m\n\u001b[0;32m----> 1\u001b[0m \u001b[43mcreate_file\u001b[49m\u001b[43m(\u001b[49m\u001b[38;5;124;43m'\u001b[39;49m\u001b[38;5;124;43m/home/fun/wildfire_data/CA_wildfires.json\u001b[39;49m\u001b[38;5;124;43m'\u001b[39;49m\u001b[43m)\u001b[49m\n",
      "Cell \u001b[0;32mIn [41], line 15\u001b[0m, in \u001b[0;36mcreate_file\u001b[0;34m(json_file)\u001b[0m\n\u001b[1;32m     12\u001b[0m \u001b[38;5;28mprint\u001b[39m(name)\n\u001b[1;32m     14\u001b[0m directory \u001b[38;5;241m=\u001b[39m \u001b[38;5;124m'\u001b[39m\u001b[38;5;124m/home/fun/wildfire_data/\u001b[39m\u001b[38;5;124m'\u001b[39m \u001b[38;5;241m+\u001b[39m \u001b[38;5;28mstr\u001b[39m(name)\n\u001b[0;32m---> 15\u001b[0m \u001b[43mos\u001b[49m\u001b[38;5;241;43m.\u001b[39;49m\u001b[43mmakedirs\u001b[49m\u001b[43m(\u001b[49m\u001b[43mdirectory\u001b[49m\u001b[43m)\u001b[49m\n\u001b[1;32m     17\u001b[0m filename \u001b[38;5;241m=\u001b[39m \u001b[38;5;124m'\u001b[39m\u001b[38;5;124m/home/fun/data/\u001b[39m\u001b[38;5;124m'\u001b[39m \u001b[38;5;241m+\u001b[39m \u001b[38;5;28mstr\u001b[39m(name) \u001b[38;5;241m+\u001b[39m \u001b[38;5;124m'\u001b[39m\u001b[38;5;124m/profile.json\u001b[39m\u001b[38;5;124m'\u001b[39m\n\u001b[1;32m     18\u001b[0m out_file \u001b[38;5;241m=\u001b[39m \u001b[38;5;28mopen\u001b[39m(filename, \u001b[38;5;124m\"\u001b[39m\u001b[38;5;124mx\u001b[39m\u001b[38;5;124m\"\u001b[39m)\n",
      "File \u001b[0;32m/usr/local/lib/python3.9/os.py:225\u001b[0m, in \u001b[0;36mmakedirs\u001b[0;34m(name, mode, exist_ok)\u001b[0m\n\u001b[1;32m    223\u001b[0m         \u001b[38;5;28;01mreturn\u001b[39;00m\n\u001b[1;32m    224\u001b[0m \u001b[38;5;28;01mtry\u001b[39;00m:\n\u001b[0;32m--> 225\u001b[0m     \u001b[43mmkdir\u001b[49m\u001b[43m(\u001b[49m\u001b[43mname\u001b[49m\u001b[43m,\u001b[49m\u001b[43m \u001b[49m\u001b[43mmode\u001b[49m\u001b[43m)\u001b[49m\n\u001b[1;32m    226\u001b[0m \u001b[38;5;28;01mexcept\u001b[39;00m \u001b[38;5;167;01mOSError\u001b[39;00m:\n\u001b[1;32m    227\u001b[0m     \u001b[38;5;66;03m# Cannot rely on checking for EEXIST, since the operating system\u001b[39;00m\n\u001b[1;32m    228\u001b[0m     \u001b[38;5;66;03m# could give priority to other errors like EACCES or EROFS\u001b[39;00m\n\u001b[1;32m    229\u001b[0m     \u001b[38;5;28;01mif\u001b[39;00m \u001b[38;5;129;01mnot\u001b[39;00m exist_ok \u001b[38;5;129;01mor\u001b[39;00m \u001b[38;5;129;01mnot\u001b[39;00m path\u001b[38;5;241m.\u001b[39misdir(name):\n",
      "\u001b[0;31mFileExistsError\u001b[0m: [Errno 17] File exists: '/home/fun/wildfire_data/August_Complex_(includes_Doe_Fire)_2020-08-16'"
     ]
    }
   ],
   "source": [
    "create_file('/home/fun/wildfire_data/CA_wildfires.json')"
   ]
  }
 ],
 "metadata": {
  "kernelspec": {
   "display_name": "Python 3 (ipykernel)",
   "language": "python",
   "name": "python3"
  },
  "language_info": {
   "codemirror_mode": {
    "name": "ipython",
    "version": 3
   },
   "file_extension": ".py",
   "mimetype": "text/x-python",
   "name": "python",
   "nbconvert_exporter": "python",
   "pygments_lexer": "ipython3",
   "version": "3.9.13"
  }
 },
 "nbformat": 4,
 "nbformat_minor": 5
}
