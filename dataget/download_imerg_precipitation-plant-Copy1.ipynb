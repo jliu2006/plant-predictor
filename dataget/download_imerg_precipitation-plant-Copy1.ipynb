{
 "cells": [
  {
   "cell_type": "code",
   "execution_count": 1,
   "id": "380719a6",
   "metadata": {},
   "outputs": [],
   "source": [
    "#rain precipitation from TRMM/GPM has been normalized into HDF5 by IMERG\n",
    "#example\n",
    "#wget https://arthurhouhttps.pps.eosdis.nasa.gov/gpmallversions/V06/2012/10/21/imerg/3B-HHR.MS.MRG.3IMERG.20121021-S170000-E172959.1020.V06B.HDF5\n",
    "#\n",
    "\n",
    "from ipynb.fs.full.utils import *\n",
    "from glob import glob\n",
    "import os\n",
    "import requests\n",
    "from urllib.parse import urlparse\n",
    "from bs4 import BeautifulSoup\n",
    "import re\n",
    "import csv\n",
    "import h5py\n",
    "import numpy as np\n",
    "from datetime import timedelta\n",
    "diameter = 5\n"
   ]
  },
  {
   "cell_type": "code",
   "execution_count": 3,
   "id": "6433e545",
   "metadata": {},
   "outputs": [],
   "source": [
    "def date_to_nth_day(date, fmt='%Y%m%d'):\n",
    "    date = datetime.datetime.strptime(date, fmt)\n",
    "    new_year_day = datetime.datetime(year=date.year, month=1, day=1)\n",
    "    return (date - new_year_day).days + 1\n",
    "\n",
    "def parse_html(html_file):\n",
    "    '''\n",
    "    parse html to get file list\n",
    "    '''       \n",
    "    with open(html_file, 'r') as input:\n",
    "        soup = BeautifulSoup(input, \"html.parser\").find_all(lambda t: t.name == \"a\" and t.text.startswith('3B'))\n",
    "        filelist = []\n",
    "        for it in soup:\n",
    "            filelist.append(it[\"href\"])\n",
    "        return filelist\n",
    "    \n",
    "             \n",
    "                \n",
    "def download_filelist(folder, url):\n",
    "    print ('downloading to ', folder)\n",
    "    \n",
    "    username_file = open(\"/home/fun/profile/imerg_username.txt\", \"r\")\n",
    "    password_file = open(\"/home/fun/profile/imerg_password.txt\", \"r\")\n",
    "    username = username_file.readline()\n",
    "    password = password_file.readline()\n",
    "    \n",
    "    filename = folder + 'index.html'\n",
    "    \n",
    "    r = requests.get(url, auth = (username, password))\n",
    "\n",
    "    if r.status_code == 200:\n",
    "        print ('writing to', filename)\n",
    "        with open(filename, 'wb') as out:\n",
    "            for bits in r.iter_content():\n",
    "                out.write(bits)\n",
    "                \n",
    "        file_list = parse_html(filename)\n",
    "        \n",
    "        return file_list\n",
    "        \n",
    "def download_file(folder, url, filename):\n",
    "     \n",
    "    username_file = open(\"/home/fun/profile/imerg_username.txt\", \"r\")\n",
    "    password_file = open(\"/home/fun/profile/imerg_password.txt\", \"r\")\n",
    "    username = username_file.readline()\n",
    "    password = password_file.readline()\n",
    "    \n",
    "    \n",
    "    print ('downloading file ', url + filename)\n",
    "    \n",
    "    r = requests.get(url + filename, auth = (username, password))\n",
    "    if r.status_code == 200:\n",
    "        print ('writing to', folder + filename)\n",
    "        with open(folder + filename, 'wb') as out:\n",
    "            for bits in r.iter_content():\n",
    "                out.write(bits)\n",
    "    else:\n",
    "        print ('download error ', r.status_code)\n",
    "    \n",
    "     \n",
    "def generate_imerg_url(datestr):\n",
    "    \n",
    "    #url = 'https://arthurhouhttps.pps.eosdis.nasa.gov/gpmallversions/V06/' + datestr[0:4] + '/' + datestr[4:6] + '/' + datestr[6:8] + '/imerg/'\n",
    "    #url = 'https://gpm1.gesdisc.eosdis.nasa.gov/data/GPM_L3/GPM_3IMERGHH.06/'+ datestr[0:4] + '/' + str(date_to_nth_day(datestr)).zfill(3) + '/'\n",
    "    url = 'https://gpm1.gesdisc.eosdis.nasa.gov/data/GPM_L3/GPM_3IMERGDE.06/' + datestr[0:4] + '/' + str(datestr)[5:7] + '/'\n",
    "    print (url)\n",
    "    return url\n",
    "\n",
    "    \n",
    "def get_target_file(filelist, timestr):\n",
    "    '''\n",
    "    return file that matches timestamp\n",
    "    '''\n",
    "    \n",
    "    yyyy = str(timestr)[0:4]\n",
    "    mm = str(timestr)[5:7]\n",
    "    dd = str(timestr)[8:10]\n",
    "    key = yyyy + mm + dd\n",
    "    print (key)\n",
    "    for it in filelist:\n",
    "        if key in it:\n",
    "            return it\n",
    "    return None\n",
    "\n",
    "    \n",
    "def download_imerg(folder):\n",
    "    json_profile = folder + '/profile.json'\n",
    "    json_file = open(json_profile)\n",
    "    info = json.load(json_file)\n",
    "    \n",
    "                                     \n",
    "    start = datetime.datetime.strptime(info['start'], '%Y-%m-%d')\n",
    "    end = datetime.datetime.strptime(info['end'], '%Y-%m-%d')\n",
    "    begin_date = end - timedelta(days = 90)\n",
    "    it_id = 0\n",
    "    frame = 2  #JH: download fixed number of series\n",
    "    \n",
    "    \n",
    "    it_date = begin_date\n",
    "    while (it_id < frame):\n",
    "        url = generate_imerg_url(str(it_date))\n",
    "        filelist = download_filelist(folder, url)\n",
    "        if filelist is None:\n",
    "            continue\n",
    "        \n",
    "        filename = get_target_file(filelist, str(it_date))  # without path\n",
    "        if filename is None:\n",
    "            continue\n",
    "        download_file(folder, url, filename)\n",
    "        it_date = it_date + timedelta(days= 31)\n",
    "        it_id = it_id + 1\n",
    "        #this is the downloaded file\n",
    "#         full_path_filename = folder + filename\n",
    "#         post_processing(it, folder, full_path_filename, it['lg'], it['lt'])\n",
    "\n",
    "def post_processing(param, folder, full_path_filename, lonstr, latstr): # lon and lat should be read from the path name or given externally\n",
    "    '''\n",
    "        1) pick the data only in bounding  box\n",
    "        2) output to CSV with date_time\n",
    "        3) remove the downloaded hdf5 files\n",
    "    '''    \n",
    "    lon = 0\n",
    "    lat = 0\n",
    "    sign = -1.0 if 'W' in lonstr else 1.0\n",
    "    lon = sign * float(lonstr[:-1])\n",
    "    sign = -1.0 if 'S' in latstr else 1.0\n",
    "    lat = sign * float(latstr[:-1])\n",
    "    \n",
    "    hdf_array = h5py.File(full_path_filename, 'r')\n",
    "    group = hdf_array['Grid']\n",
    "    \n",
    "    longitude = group['lon'][()] # len 3600, x-axis\n",
    "    latitude = group['lat'][()] # len 1800, y-axis\n",
    "    rain = group['precipitationCal'][()] # array of shape (1, 3600, 1800)\n",
    "            \n",
    "    x = int((lon-longitude[0])*10)\n",
    "    y = int((lat-latitude[0])*10)\n",
    "    \n",
    "    \n",
    "    data = hdf_array['Grid']['precipitationCal'][:, x-100:x+100, y-100:y+100] # 200 by 200, one hundred square degrees (#1)\n",
    "\n",
    "    datestr = str(param['date'])\n",
    "    timestr = str(param['time'])\n",
    "    final = np.array([data])\n",
    "\n",
    "    pathname = folder + 'imerg_precipitation_' + datestr + '_' + timestr + '.npy'\n",
    "    np.save(pathname, final) # write np array to .npy file with pre-existing file name + datestr + timestr (#2)\n",
    "\n",
    "    os.remove(full_path_filename) # remove previous .HDF5 file (#3)\n",
    "  "
   ]
  },
  {
   "cell_type": "code",
   "execution_count": 33,
   "id": "5271d0fc",
   "metadata": {},
   "outputs": [],
   "source": [
    "\n",
    "\n"
   ]
  },
  {
   "cell_type": "code",
   "execution_count": 7,
   "id": "4912fd9f",
   "metadata": {},
   "outputs": [
    {
     "name": "stdout",
     "output_type": "stream",
     "text": [
      "======= downloading imerg precipitation into /home/fun/wildfire_data/Apple_Fire_2020-07-31=========\n",
      "https://gpm1.gesdisc.eosdis.nasa.gov/data/GPM_L3/GPM_3IMERGDE.06/2022/07/\n",
      "downloading to  /home/fun/wildfire_data/Apple_Fire_2020-07-31/\n",
      "writing to /home/fun/wildfire_data/Apple_Fire_2020-07-31/index.html\n",
      "20220723\n",
      "downloading file  https://gpm1.gesdisc.eosdis.nasa.gov/data/GPM_L3/GPM_3IMERGDE.06/2022/07/3B-DAY-E.MS.MRG.3IMERG.20220723-S000000-E235959.V06.nc4\n",
      "writing to /home/fun/wildfire_data/Apple_Fire_2020-07-31/3B-DAY-E.MS.MRG.3IMERG.20220723-S000000-E235959.V06.nc4\n",
      "https://gpm1.gesdisc.eosdis.nasa.gov/data/GPM_L3/GPM_3IMERGDE.06/2022/08/\n",
      "downloading to  /home/fun/wildfire_data/Apple_Fire_2020-07-31/\n",
      "writing to /home/fun/wildfire_data/Apple_Fire_2020-07-31/index.html\n",
      "20220823\n",
      "downloading file  https://gpm1.gesdisc.eosdis.nasa.gov/data/GPM_L3/GPM_3IMERGDE.06/2022/08/3B-DAY-E.MS.MRG.3IMERG.20220823-S000000-E235959.V06.nc4\n",
      "writing to /home/fun/wildfire_data/Apple_Fire_2020-07-31/3B-DAY-E.MS.MRG.3IMERG.20220823-S000000-E235959.V06.nc4\n"
     ]
    }
   ],
   "source": [
    "# folder = '/home/fun/wildfire_data/Saddle_Ridge_Fire_2019-10-10/'\n",
    "# download_imerg(folder)\n",
    "# # download everything once testing is done\n",
    "\n",
    "wildfires = glob('/home/fun/wildfire_data/Ap*')\n",
    "\n",
    "for wildfire in wildfires:\n",
    "    globprof = wildfire + '/profile.json'\n",
    "    with open(globprof) as f:\n",
    "        prof = json.load(f)\n",
    "        area = prof['info']['acres_burned']\n",
    "    if int(area) >= 10000:\n",
    "        print ('======= downloading imerg precipitation into ' + wildfire + '=========')\n",
    "        download_imerg(wildfire + '/')  \n",
    "    \n",
    "\n"
   ]
  },
  {
   "cell_type": "code",
   "execution_count": 4,
   "id": "1afcbda7",
   "metadata": {
    "scrolled": true
   },
   "outputs": [
    {
     "name": "stdout",
     "output_type": "stream",
     "text": [
      "https://gpm1.gesdisc.eosdis.nasa.gov/data/GPM_L3/GPM_3IMERGDE.06/2019/08/\n",
      "downloading to  /home/fun/wildfire_data/Saddle_Ridge_Fire_2019-10-10/\n",
      "writing to /home/fun/wildfire_data/Saddle_Ridge_Fire_2019-10-10/index.html\n",
      "20190807\n",
      "downloading file  https://gpm1.gesdisc.eosdis.nasa.gov/data/GPM_L3/GPM_3IMERGDE.06/2019/08/3B-DAY-E.MS.MRG.3IMERG.20190807-S000000-E235959.V06.nc4\n",
      "writing to /home/fun/wildfire_data/Saddle_Ridge_Fire_2019-10-10/3B-DAY-E.MS.MRG.3IMERG.20190807-S000000-E235959.V06.nc4\n",
      "https://gpm1.gesdisc.eosdis.nasa.gov/data/GPM_L3/GPM_3IMERGDE.06/2019/09/\n",
      "downloading to  /home/fun/wildfire_data/Saddle_Ridge_Fire_2019-10-10/\n",
      "writing to /home/fun/wildfire_data/Saddle_Ridge_Fire_2019-10-10/index.html\n",
      "20190907\n",
      "downloading file  https://gpm1.gesdisc.eosdis.nasa.gov/data/GPM_L3/GPM_3IMERGDE.06/2019/09/3B-DAY-E.MS.MRG.3IMERG.20190907-S000000-E235959.V06.nc4\n",
      "writing to /home/fun/wildfire_data/Saddle_Ridge_Fire_2019-10-10/3B-DAY-E.MS.MRG.3IMERG.20190907-S000000-E235959.V06.nc4\n"
     ]
    }
   ],
   "source": [
    "folder = '/home/fun/wildfire_data/Saddle_Ridge_Fire_2019-10-10/'\n",
    "download_imerg(folder)"
   ]
  },
  {
   "cell_type": "code",
   "execution_count": 9,
   "id": "39d6378f",
   "metadata": {},
   "outputs": [
    {
     "ename": "ModuleNotFoundError",
     "evalue": "No module named 'netCDF4'",
     "output_type": "error",
     "traceback": [
      "\u001b[0;31m---------------------------------------------------------------------------\u001b[0m",
      "\u001b[0;31mModuleNotFoundError\u001b[0m                       Traceback (most recent call last)",
      "Cell \u001b[0;32mIn [9], line 1\u001b[0m\n\u001b[0;32m----> 1\u001b[0m \u001b[38;5;28;01mfrom\u001b[39;00m \u001b[38;5;21;01mnetCDF4\u001b[39;00m \u001b[38;5;28;01mimport\u001b[39;00m Dataset\n\u001b[1;32m      2\u001b[0m folder \u001b[38;5;241m=\u001b[39m \u001b[38;5;124m'\u001b[39m\u001b[38;5;124m/home/fun/wildfire_data/Saddle_Ridge_Fire_2019-10-10/\u001b[39m\u001b[38;5;124m'\u001b[39m\n\u001b[1;32m      3\u001b[0m file \u001b[38;5;241m=\u001b[39m folder \u001b[38;5;241m+\u001b[39m \u001b[38;5;124m'\u001b[39m\u001b[38;5;124m3B-DAY-E.MS.MRG.3IMERG.20190807-S000000-E235959.V06.nc4\u001b[39m\u001b[38;5;124m'\u001b[39m\n",
      "\u001b[0;31mModuleNotFoundError\u001b[0m: No module named 'netCDF4'"
     ]
    }
   ],
   "source": [
    "from netCDF4 import Dataset\n",
    "folder = '/home/fun/wildfire_data/Saddle_Ridge_Fire_2019-10-10/'\n",
    "file = folder + '3B-DAY-E.MS.MRG.3IMERG.20190807-S000000-E235959.V06.nc4'\n",
    "\n"
   ]
  },
  {
   "cell_type": "code",
   "execution_count": 15,
   "id": "455391d9",
   "metadata": {},
   "outputs": [
    {
     "ename": "OSError",
     "evalue": "Unable to open file (unable to open file: name = '/home/fun/data/AL022004/3B-HHR.MS.MRG.3IMERG.20040803-S180000-E182959.1080.V06B.HDF5', errno = 2, error message = 'No such file or directory', flags = 0, o_flags = 0)",
     "output_type": "error",
     "traceback": [
      "\u001b[0;31m---------------------------------------------------------------------------\u001b[0m",
      "\u001b[0;31mOSError\u001b[0m                                   Traceback (most recent call last)",
      "\u001b[0;32m<ipython-input-15-8df2b53ba3e0>\u001b[0m in \u001b[0;36m<module>\u001b[0;34m\u001b[0m\n\u001b[1;32m      5\u001b[0m \u001b[0;32mimport\u001b[0m \u001b[0mh5py\u001b[0m\u001b[0;34m\u001b[0m\u001b[0;34m\u001b[0m\u001b[0m\n\u001b[1;32m      6\u001b[0m \u001b[0;34m\u001b[0m\u001b[0m\n\u001b[0;32m----> 7\u001b[0;31m \u001b[0mf\u001b[0m \u001b[0;34m=\u001b[0m \u001b[0mh5py\u001b[0m\u001b[0;34m.\u001b[0m\u001b[0mFile\u001b[0m\u001b[0;34m(\u001b[0m\u001b[0;34m'/home/fun/data/AL022004/3B-HHR.MS.MRG.3IMERG.20040803-S180000-E182959.1080.V06B.HDF5'\u001b[0m\u001b[0;34m,\u001b[0m \u001b[0;34m'r'\u001b[0m\u001b[0;34m)\u001b[0m\u001b[0;34m\u001b[0m\u001b[0;34m\u001b[0m\u001b[0m\n\u001b[0m\u001b[1;32m      8\u001b[0m \u001b[0;34m\u001b[0m\u001b[0m\n\u001b[1;32m      9\u001b[0m \u001b[0;32mfor\u001b[0m \u001b[0mkey\u001b[0m \u001b[0;32min\u001b[0m \u001b[0mf\u001b[0m\u001b[0;34m.\u001b[0m\u001b[0mkeys\u001b[0m\u001b[0;34m(\u001b[0m\u001b[0;34m)\u001b[0m\u001b[0;34m:\u001b[0m\u001b[0;34m\u001b[0m\u001b[0;34m\u001b[0m\u001b[0m\n",
      "\u001b[0;32m/usr/local/lib64/python3.6/site-packages/h5py/_hl/files.py\u001b[0m in \u001b[0;36m__init__\u001b[0;34m(self, name, mode, driver, libver, userblock_size, swmr, rdcc_nslots, rdcc_nbytes, rdcc_w0, track_order, fs_strategy, fs_persist, fs_threshold, **kwds)\u001b[0m\n\u001b[1;32m    425\u001b[0m                                fapl, fcpl=make_fcpl(track_order=track_order, fs_strategy=fs_strategy,\n\u001b[1;32m    426\u001b[0m                                fs_persist=fs_persist, fs_threshold=fs_threshold),\n\u001b[0;32m--> 427\u001b[0;31m                                swmr=swmr)\n\u001b[0m\u001b[1;32m    428\u001b[0m \u001b[0;34m\u001b[0m\u001b[0m\n\u001b[1;32m    429\u001b[0m             \u001b[0;32mif\u001b[0m \u001b[0misinstance\u001b[0m\u001b[0;34m(\u001b[0m\u001b[0mlibver\u001b[0m\u001b[0;34m,\u001b[0m \u001b[0mtuple\u001b[0m\u001b[0;34m)\u001b[0m\u001b[0;34m:\u001b[0m\u001b[0;34m\u001b[0m\u001b[0;34m\u001b[0m\u001b[0m\n",
      "\u001b[0;32m/usr/local/lib64/python3.6/site-packages/h5py/_hl/files.py\u001b[0m in \u001b[0;36mmake_fid\u001b[0;34m(name, mode, userblock_size, fapl, fcpl, swmr)\u001b[0m\n\u001b[1;32m    188\u001b[0m         \u001b[0;32mif\u001b[0m \u001b[0mswmr\u001b[0m \u001b[0;32mand\u001b[0m \u001b[0mswmr_support\u001b[0m\u001b[0;34m:\u001b[0m\u001b[0;34m\u001b[0m\u001b[0;34m\u001b[0m\u001b[0m\n\u001b[1;32m    189\u001b[0m             \u001b[0mflags\u001b[0m \u001b[0;34m|=\u001b[0m \u001b[0mh5f\u001b[0m\u001b[0;34m.\u001b[0m\u001b[0mACC_SWMR_READ\u001b[0m\u001b[0;34m\u001b[0m\u001b[0;34m\u001b[0m\u001b[0m\n\u001b[0;32m--> 190\u001b[0;31m         \u001b[0mfid\u001b[0m \u001b[0;34m=\u001b[0m \u001b[0mh5f\u001b[0m\u001b[0;34m.\u001b[0m\u001b[0mopen\u001b[0m\u001b[0;34m(\u001b[0m\u001b[0mname\u001b[0m\u001b[0;34m,\u001b[0m \u001b[0mflags\u001b[0m\u001b[0;34m,\u001b[0m \u001b[0mfapl\u001b[0m\u001b[0;34m=\u001b[0m\u001b[0mfapl\u001b[0m\u001b[0;34m)\u001b[0m\u001b[0;34m\u001b[0m\u001b[0;34m\u001b[0m\u001b[0m\n\u001b[0m\u001b[1;32m    191\u001b[0m     \u001b[0;32melif\u001b[0m \u001b[0mmode\u001b[0m \u001b[0;34m==\u001b[0m \u001b[0;34m'r+'\u001b[0m\u001b[0;34m:\u001b[0m\u001b[0;34m\u001b[0m\u001b[0;34m\u001b[0m\u001b[0m\n\u001b[1;32m    192\u001b[0m         \u001b[0mfid\u001b[0m \u001b[0;34m=\u001b[0m \u001b[0mh5f\u001b[0m\u001b[0;34m.\u001b[0m\u001b[0mopen\u001b[0m\u001b[0;34m(\u001b[0m\u001b[0mname\u001b[0m\u001b[0;34m,\u001b[0m \u001b[0mh5f\u001b[0m\u001b[0;34m.\u001b[0m\u001b[0mACC_RDWR\u001b[0m\u001b[0;34m,\u001b[0m \u001b[0mfapl\u001b[0m\u001b[0;34m=\u001b[0m\u001b[0mfapl\u001b[0m\u001b[0;34m)\u001b[0m\u001b[0;34m\u001b[0m\u001b[0;34m\u001b[0m\u001b[0m\n",
      "\u001b[0;32mh5py/_objects.pyx\u001b[0m in \u001b[0;36mh5py._objects.with_phil.wrapper\u001b[0;34m()\u001b[0m\n",
      "\u001b[0;32mh5py/_objects.pyx\u001b[0m in \u001b[0;36mh5py._objects.with_phil.wrapper\u001b[0;34m()\u001b[0m\n",
      "\u001b[0;32mh5py/h5f.pyx\u001b[0m in \u001b[0;36mh5py.h5f.open\u001b[0;34m()\u001b[0m\n",
      "\u001b[0;31mOSError\u001b[0m: Unable to open file (unable to open file: name = '/home/fun/data/AL022004/3B-HHR.MS.MRG.3IMERG.20040803-S180000-E182959.1080.V06B.HDF5', errno = 2, error message = 'No such file or directory', flags = 0, o_flags = 0)"
     ]
    }
   ],
   "source": [
    "#test hdf5 imerg\n",
    "\n",
    "#imerg_df = pd.read_hdf('/home/fun/data/imerg/3B-HHR.MS.MRG.3IMERG.20121021-S023000-E025959.0150.V06B.HDF5')  \n",
    "\n",
    "import h5py\n",
    "\n",
    "f = h5py.File('/home/fun/data/AL022004/3B-HHR.MS.MRG.3IMERG.20040803-S180000-E182959.1080.V06B.HDF5', 'r')\n",
    "\n",
    "for key in f.keys():\n",
    "    print(key) #Names of the root level object names in HDF5 file - can be groups or datasets.\n",
    "    print(type(f[key])) # get the object type: usually group or dataset\n",
    "    \n",
    "#Get the HDF5 group; key needs to be a group name from above\n",
    "group = f['Grid']\n",
    "\n",
    "#Checkout what keys are inside that group.\n",
    "for key in group.keys():\n",
    "    print(key)\n",
    "    \n",
    "longitude = group['lon'][()] # len 3600, x-axis\n",
    "latitude = group['lat'][()] # len 1800, y-axis\n",
    "rain = group['precipitationCal'][()] # array of shape (1, 3600, 1800)\n",
    "\n",
    "lon = -77.4\n",
    "lat = 14.3\n",
    "\n",
    "#print(latitude, clos_coords)\n",
    "i = int((lat-latitude[0])*10)\n",
    "j = int((lon-longitude[0])*10)\n",
    "print(latitude[i], longitude[j], i, j)\n",
    "\n",
    "rain = rain.reshape(3600, 1800)\n",
    "\n",
    "sliced = rain[j-5:j+5, i-5:i+5]\n",
    "sliced.shape"
   ]
  },
  {
   "cell_type": "code",
   "execution_count": 12,
   "id": "a78e8522",
   "metadata": {},
   "outputs": [
    {
     "ename": "NameError",
     "evalue": "name 'longitude' is not defined",
     "output_type": "error",
     "traceback": [
      "\u001b[0;31m---------------------------------------------------------------------------\u001b[0m",
      "\u001b[0;31mNameError\u001b[0m                                 Traceback (most recent call last)",
      "\u001b[0;32m<ipython-input-12-b822412d3625>\u001b[0m in \u001b[0;36m<module>\u001b[0;34m\u001b[0m\n\u001b[1;32m      6\u001b[0m \u001b[0;34m\u001b[0m\u001b[0m\n\u001b[1;32m      7\u001b[0m \u001b[0;31m#print(latitude, clos_coords)\u001b[0m\u001b[0;34m\u001b[0m\u001b[0;34m\u001b[0m\u001b[0;34m\u001b[0m\u001b[0m\n\u001b[0;32m----> 8\u001b[0;31m \u001b[0mx\u001b[0m \u001b[0;34m=\u001b[0m \u001b[0mint\u001b[0m\u001b[0;34m(\u001b[0m\u001b[0;34m(\u001b[0m\u001b[0mlon\u001b[0m\u001b[0;34m-\u001b[0m\u001b[0mlongitude\u001b[0m\u001b[0;34m[\u001b[0m\u001b[0;36m0\u001b[0m\u001b[0;34m]\u001b[0m\u001b[0;34m)\u001b[0m\u001b[0;34m*\u001b[0m\u001b[0;36m10\u001b[0m\u001b[0;34m)\u001b[0m\u001b[0;34m\u001b[0m\u001b[0;34m\u001b[0m\u001b[0m\n\u001b[0m\u001b[1;32m      9\u001b[0m \u001b[0my\u001b[0m \u001b[0;34m=\u001b[0m \u001b[0mint\u001b[0m\u001b[0;34m(\u001b[0m\u001b[0;34m(\u001b[0m\u001b[0mlat\u001b[0m\u001b[0;34m-\u001b[0m\u001b[0mlatitude\u001b[0m\u001b[0;34m[\u001b[0m\u001b[0;36m0\u001b[0m\u001b[0;34m]\u001b[0m\u001b[0;34m)\u001b[0m\u001b[0;34m*\u001b[0m\u001b[0;36m10\u001b[0m\u001b[0;34m)\u001b[0m\u001b[0;34m\u001b[0m\u001b[0;34m\u001b[0m\u001b[0m\n\u001b[1;32m     10\u001b[0m \u001b[0;34m\u001b[0m\u001b[0m\n",
      "\u001b[0;31mNameError\u001b[0m: name 'longitude' is not defined"
     ]
    }
   ],
   "source": [
    "import numpy as np\n",
    "filename = '/home/fun/data/AL022004/3B-HHR.MS.MRG.3IMERG.20040803-S180000-E182959.1080.V06B.HDF5'\n",
    "\n",
    "lon = -77.4\n",
    "lat = 14.3\n",
    "\n",
    "#print(latitude, clos_coords)\n",
    "x = int((lon-longitude[0])*10)\n",
    "y = int((lat-latitude[0])*10)\n",
    "\n",
    "hdf_array = h5py.File(filename, 'r')\n",
    "data = hdf_array['Grid']['precipitationCal'][:, x-5:x+5, y-5:y+5]\n",
    "\n",
    "data"
   ]
  },
  {
   "cell_type": "code",
   "execution_count": 85,
   "id": "c6074400",
   "metadata": {},
   "outputs": [
    {
     "data": {
      "text/plain": [
       "'/home/fun/data/AL022004/3B-HHR.MS.MRG.3IMERG.20121021-S000000-E002959.0000.V06B'"
      ]
     },
     "execution_count": 85,
     "metadata": {},
     "output_type": "execute_result"
    }
   ],
   "source": [
    "file = '/home/fun/data/AL022004/3B-HHR.MS.MRG.3IMERG.20121021-S000000-E002959.0000.V06B.HDF5'\n",
    "len(file)\n",
    "\n",
    "name = file[:len(file)-5]\n",
    "name"
   ]
  },
  {
   "cell_type": "code",
   "execution_count": 179,
   "id": "c5ad4c7b",
   "metadata": {
    "scrolled": true
   },
   "outputs": [
    {
     "data": {
      "text/plain": [
       "array([[[[ 0.06247815,  0.29016453,  1.0588278 ,  2.2504165 ,\n",
       "           2.343059  ,  2.4157019 , 10.181723  , 12.900776  ,\n",
       "          26.127796  , 30.346048  ],\n",
       "         [ 0.37743443,  0.28462726,  0.28016454,  2.1891775 ,\n",
       "           2.1970284 ,  9.379759  ,  8.414813  , 19.552551  ,\n",
       "          24.830242  , 23.657272  ],\n",
       "         [ 0.39421082,  0.9118869 ,  1.2785861 ,  2.6486425 ,\n",
       "           2.723851  ,  5.715255  , 10.913759  , 25.128246  ,\n",
       "          24.038334  , 25.0345    ],\n",
       "         [ 1.0279177 ,  0.93866324,  1.2685862 ,  1.2039589 ,\n",
       "           2.5193882 ,  4.1288385 ,  5.5526223 ,  6.9541235 ,\n",
       "          11.752715  , 21.643759  ],\n",
       "         [ 1.1708999 ,  1.1753626 ,  1.3354396 ,  1.3797377 ,\n",
       "           1.9213829 ,  4.1697483 ,  5.4864163 ,  7.268257  ,\n",
       "           9.392678  , 11.334448  ],\n",
       "         [ 1.6964267 ,  1.4473368 ,  1.3636196 ,  1.3289921 ,\n",
       "           1.7290797 ,  2.1481695 ,  2.4771826 ,  2.4582572 ,\n",
       "           2.5453625 ,  6.917589  ],\n",
       "         [ 3.4169512 ,  2.0160208 ,  1.8430489 ,  1.3056041 ,\n",
       "           1.6244524 ,  1.17818   ,  2.6942005 ,  2.2605708 ,\n",
       "           2.29545   ,  1.94      ],\n",
       "         [ 4.8246937 ,  2.836833  ,  2.234365  ,  1.922874  ,\n",
       "           1.5703187 ,  1.5167661 ,  1.4973574 ,  1.6971929 ,\n",
       "           1.3291004 ,  1.3767868 ],\n",
       "         [17.378696  ,  5.600108  ,  2.6058457 ,  1.902874  ,\n",
       "           1.2859435 ,  1.7237172 ,  1.70818   ,  1.4757018 ,\n",
       "           1.1149666 ,  1.0815785 ],\n",
       "         [ 6.5143757 ,  6.5263705 ,  7.0437174 ,  2.6424012 ,\n",
       "           2.9424782 ,  2.2306685 ,  1.7003291 ,  1.0192648 ,\n",
       "           1.0160412 ,  0.8576968 ]]]], dtype=float32)"
      ]
     },
     "execution_count": 179,
     "metadata": {},
     "output_type": "execute_result"
    }
   ],
   "source": [
    "array = np.load('/home/fun/data/AL022004/imerg_precipitation_20040803_1200.npy')\n",
    "array"
   ]
  },
  {
   "cell_type": "code",
   "execution_count": 3,
   "id": "76eb5b39",
   "metadata": {
    "scrolled": false
   },
   "outputs": [],
   "source": []
  }
 ],
 "metadata": {
  "kernelspec": {
   "display_name": "Python 3 (ipykernel)",
   "language": "python",
   "name": "python3"
  },
  "language_info": {
   "codemirror_mode": {
    "name": "ipython",
    "version": 3
   },
   "file_extension": ".py",
   "mimetype": "text/x-python",
   "name": "python",
   "nbconvert_exporter": "python",
   "pygments_lexer": "ipython3",
   "version": "3.9.13"
  }
 },
 "nbformat": 4,
 "nbformat_minor": 5
}
